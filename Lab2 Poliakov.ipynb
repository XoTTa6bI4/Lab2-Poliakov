{
 "cells": [
  {
   "cell_type": "code",
   "execution_count": 1,
   "id": "22bca29b-b70a-4393-b8ee-3764b9cbd332",
   "metadata": {},
   "outputs": [
    {
     "name": "stdout",
     "output_type": "stream",
     "text": [
      "Номер варіанту: 2\n"
     ]
    }
   ],
   "source": [
    "n = 12\n",
    "N = (n + 4) % 5 + 1\n",
    "print(f\"Номер варіанту: {N}\")"
   ]
  },
  {
   "cell_type": "code",
   "execution_count": 2,
   "id": "692ad989-af16-4c00-bd26-04c9d05c7328",
   "metadata": {},
   "outputs": [
    {
     "name": "stdout",
     "output_type": "stream",
     "text": [
      "Index(['Id', 'Name', 'Year', 'Gender', 'Count'], dtype='object')\n"
     ]
    }
   ],
   "source": [
    "import pandas as pd\n",
    "df = pd.read_csv('C:/Users/Home/OneDrive/Рабочий стол/Python/Лаб 2/NationalNames.csv')\n",
    "print(df.columns)"
   ]
  },
  {
   "cell_type": "code",
   "execution_count": 3,
   "id": "824bd292-dd1a-4fbe-9238-64fa36e59c9e",
   "metadata": {},
   "outputs": [
    {
     "name": "stdout",
     "output_type": "stream",
     "text": [
      "                 Id          Year         Count\n",
      "count  1.825433e+06  1.825433e+06  1.825433e+06\n",
      "mean   9.127170e+05  1.972620e+03  1.846879e+02\n",
      "std    5.269573e+05  3.352891e+01  1.566711e+03\n",
      "min    1.000000e+00  1.880000e+03  5.000000e+00\n",
      "25%    4.563590e+05  1.949000e+03  7.000000e+00\n",
      "50%    9.127170e+05  1.982000e+03  1.200000e+01\n",
      "75%    1.369075e+06  2.001000e+03  3.200000e+01\n",
      "max    1.825433e+06  2.014000e+03  9.968000e+04\n"
     ]
    }
   ],
   "source": [
    "import pandas as pd\n",
    "df = pd.read_csv('C:/Users/Home/OneDrive/Рабочий стол/Python/Лаб 2/NationalNames.csv')\n",
    "print(df.describe())"
   ]
  },
  {
   "cell_type": "code",
   "execution_count": 4,
   "id": "a768f1d7-ace8-4e2b-9dae-0cd5a7947041",
   "metadata": {},
   "outputs": [
    {
     "name": "stdout",
     "output_type": "stream",
     "text": [
      "93889\n"
     ]
    }
   ],
   "source": [
    "import pandas as pd\n",
    "df = pd.read_csv('C:/Users/Home/OneDrive/Рабочий стол/Python/Лаб 2/NationalNames.csv')\n",
    "print(df['Name'].nunique())"
   ]
  },
  {
   "cell_type": "code",
   "execution_count": 5,
   "id": "8d21eeca-1219-4025-ae1c-1e4afcb1fc16",
   "metadata": {},
   "outputs": [
    {
     "name": "stdout",
     "output_type": "stream",
     "text": [
      "The name is 'Linda' in 1947\n"
     ]
    }
   ],
   "source": [
    "import pandas as pd\n",
    "df = pd.read_csv('C:/Users/Home/OneDrive/Рабочий стол/Python/Лаб 2/NationalNames.csv')\n",
    "pop = df.loc[df['Count'].idxmax()]\n",
    "print(f\"The name is '{pop['Name']}' in {pop['Year']}\")"
   ]
  },
  {
   "cell_type": "code",
   "execution_count": 6,
   "id": "8604a68b-2cd0-4b11-875f-09bf50c7b86a",
   "metadata": {},
   "outputs": [
    {
     "name": "stdout",
     "output_type": "stream",
     "text": [
      "254615\n"
     ]
    }
   ],
   "source": [
    "import pandas as pd\n",
    "df = pd.read_csv('C:/Users/Home/OneDrive/Рабочий стол/Python/Лаб 2/NationalNames.csv')\n",
    "min = df[df['Count'] == df['Count'].min()].shape[0]\n",
    "print(min)"
   ]
  },
  {
   "cell_type": "code",
   "execution_count": 7,
   "id": "fcec6b35-9f0d-4b05-8888-22cbdbc679a6",
   "metadata": {},
   "outputs": [
    {
     "name": "stdout",
     "output_type": "stream",
     "text": [
      " Year  Name\n",
      " 2008 32488\n"
     ]
    }
   ],
   "source": [
    "import pandas as pd\n",
    "df = pd.read_csv('C:/Users/Home/OneDrive/Рабочий стол/Python/Лаб 2/NationalNames.csv')\n",
    "unique_names_per_year = df.groupby('Year')['Name'].nunique()\n",
    "year_with_most_unique_names = unique_names_per_year.idxmax()\n",
    "max_unique_names = unique_names_per_year.max()\n",
    "result_table = pd.DataFrame({\n",
    "    'Year': [year_with_most_unique_names],\n",
    "    'Name': [max_unique_names]\n",
    "})\n",
    "print(result_table.to_string(index=False))"
   ]
  },
  {
   "cell_type": "code",
   "execution_count": 8,
   "id": "23680887-d046-4dd1-b4e5-0fd0fa0c4ed2",
   "metadata": {},
   "outputs": [
    {
     "name": "stdout",
     "output_type": "stream",
     "text": [
      "'Jacob'\n"
     ]
    }
   ],
   "source": [
    "import pandas as pd\n",
    "df = pd.read_csv('C:/Users/Home/OneDrive/Рабочий стол/Python/Лаб 2/NationalNames.csv')\n",
    "unique_names_per_year = df.groupby('Year')['Name'].nunique()\n",
    "year_with_most_unique_names = unique_names_per_year.idxmax()\n",
    "data_for_year = df[df['Year'] == year_with_most_unique_names]\n",
    "most_popular_name = data_for_year.loc[data_for_year['Count'].idxmax()]\n",
    "print(f\"'{most_popular_name['Name']}'\")"
   ]
  },
  {
   "cell_type": "code",
   "execution_count": 9,
   "id": "d7845582-1ec6-49b3-b307-a728210ed12b",
   "metadata": {},
   "outputs": [
    {
     "name": "stdout",
     "output_type": "stream",
     "text": [
      "          Name  Year Gender  Count\n",
      "Id                                \n",
      "1455557  Jacob  2004      F    171\n"
     ]
    }
   ],
   "source": [
    "import pandas as pd\n",
    "df = pd.read_csv('C:/Users/Home/OneDrive/Рабочий стол/Python/Лаб 2/NationalNames.csv')\n",
    "jacob_female = df[(df['Name'] == 'Jacob') & (df['Gender'] == 'F')]\n",
    "most_popular_year = jacob_female.loc[jacob_female['Count'].idxmax()]\n",
    "result_table = pd.DataFrame([most_popular_year]).set_index('Id')\n",
    "print(result_table.to_string())"
   ]
  },
  {
   "cell_type": "code",
   "execution_count": 10,
   "id": "e7312eaa-82a5-4ef0-8ddf-7d7fa52be51f",
   "metadata": {},
   "outputs": [
    {
     "name": "stdout",
     "output_type": "stream",
     "text": [
      "      Gender_neutral_names\n",
      "Year                      \n",
      "2008                  2557\n"
     ]
    }
   ],
   "source": [
    "import pandas as pd\n",
    "df = pd.read_csv('C:/Users/Home/OneDrive/Рабочий стол/Python/Лаб 2/NationalNames.csv')\n",
    "neutral_names = df.groupby(['Year', 'Name', 'Gender'])['Count'].sum().unstack(fill_value=0)\n",
    "neutral_names['Gender_neutral'] = (neutral_names['F'] > 0) & (neutral_names['M'] > 0)\n",
    "gender_neutral_counts = neutral_names[neutral_names['Gender_neutral']].groupby('Year').size()\n",
    "year_with_max_neutral_names = gender_neutral_counts.idxmax()\n",
    "max_neutral_names = gender_neutral_counts.max()\n",
    "result_table = pd.DataFrame({\n",
    "    'Gender_neutral_names': [max_neutral_names]\n",
    "}, index=[year_with_max_neutral_names])\n",
    "result_table.index.name = 'Year'\n",
    "print(result_table.to_string())"
   ]
  },
  {
   "cell_type": "code",
   "execution_count": 11,
   "id": "c956ea69-39c3-4881-a7bb-7231c9520e4c",
   "metadata": {},
   "outputs": [
    {
     "name": "stdout",
     "output_type": "stream",
     "text": [
      "1957\n"
     ]
    }
   ],
   "source": [
    "import pandas as pd\n",
    "df = pd.read_csv('C:/Users/Home/OneDrive/Рабочий стол/Python/Лаб 2/NationalNames.csv')\n",
    "births_per_year = df.groupby('Year')['Count'].sum()\n",
    "year_with_most_births = births_per_year.idxmax()\n",
    "print(year_with_most_births)"
   ]
  },
  {
   "cell_type": "code",
   "execution_count": 12,
   "id": "1f4c81c6-c5ea-4236-92ed-82d2fbb7c10f",
   "metadata": {},
   "outputs": [
    {
     "name": "stdout",
     "output_type": "stream",
     "text": [
      "Gender       F       M\n",
      "Year                  \n",
      "1880     90993  110491\n",
      "1881     91954  100745\n",
      "1882    107850  113688\n",
      "1883    112321  104629\n",
      "1884    129022  114445\n"
     ]
    }
   ],
   "source": [
    "import pandas as pd\n",
    "df = pd.read_csv('C:/Users/Home/OneDrive/Рабочий стол/Python/Лаб 2/NationalNames.csv')\n",
    "births_by_year_gender = df.groupby(['Year', 'Gender'])['Count'].sum().unstack()\n",
    "print(births_by_year_gender.head())"
   ]
  },
  {
   "cell_type": "code",
   "execution_count": 13,
   "id": "49e25845-65c6-48fd-a7e4-b0b242f659bb",
   "metadata": {},
   "outputs": [
    {
     "name": "stdout",
     "output_type": "stream",
     "text": [
      "54\n"
     ]
    }
   ],
   "source": [
    "import pandas as pd\n",
    "df = pd.read_csv('C:/Users/Home/OneDrive/Рабочий стол/Python/Лаб 2/NationalNames.csv')\n",
    "births_by_year_gender = df.groupby(['Year', 'Gender'])['Count'].sum().unstack()\n",
    "years_with_more_girls = (births_by_year_gender['F'] > births_by_year_gender['M']).sum()\n",
    "print(years_with_more_girls)"
   ]
  },
  {
   "cell_type": "code",
   "execution_count": 14,
   "id": "2dca1ce4-693f-4701-94f5-5a134232cfe3",
   "metadata": {},
   "outputs": [
    {
     "data": {
      "image/png": "[encoded data removed]",
      "text/plain": [
       "<Figure size 1000x600 with 1 Axes>"
      ]
     },
     "metadata": {},
     "output_type": "display_data"
    }
   ],
   "source": [
    "import pandas as pd\n",
    "import matplotlib.pyplot as plt\n",
    "df = pd.read_csv('C:/Users/Home/OneDrive/Рабочий стол/Python/Лаб 2/NationalNames.csv')\n",
    "births_by_year_gender = df.groupby(['Year', 'Gender'])['Count'].sum().unstack()\n",
    "plt.figure(figsize=(10, 6))\n",
    "plt.plot(births_by_year_gender.index, births_by_year_gender['F'], label='F', linestyle='-', marker='')\n",
    "plt.plot(births_by_year_gender.index, births_by_year_gender['M'], label='M', linestyle='-', marker='')\n",
    "plt.title('Total births per year by gender')\n",
    "plt.xlabel('Year')\n",
    "plt.ylabel('Total births per year')\n",
    "plt.legend(title='Gender')\n",
    "plt.grid(False)\n",
    "plt.show()"
   ]
  },
  {
   "cell_type": "code",
   "execution_count": 15,
   "id": "fcc4061c-86ef-421a-8d17-9f2f2eb4685b",
   "metadata": {},
   "outputs": [
    {
     "name": "stdout",
     "output_type": "stream",
     "text": [
      "10221\n"
     ]
    }
   ],
   "source": [
    "import pandas as pd\n",
    "df = pd.read_csv('C:/Users/Home/OneDrive/Рабочий стол/Python/Лаб 2/NationalNames.csv')\n",
    "neutral_names = df.groupby(['Name', 'Gender'])['Count'].sum().unstack(fill_value=0)\n",
    "neutral_names_count = neutral_names[(neutral_names['F'] > 0) & (neutral_names['M'] > 0)].shape[0]\n",
    "print(neutral_names_count)\n"
   ]
  },
  {
   "cell_type": "code",
   "execution_count": 16,
   "id": "b189b14e-95e4-4f93-aed6-73e5698631f2",
   "metadata": {},
   "outputs": [
    {
     "name": "stdout",
     "output_type": "stream",
     "text": [
      "Спостереження проводилось 135 років\n"
     ]
    }
   ],
   "source": [
    "import pandas as pd\n",
    "df = pd.read_csv('C:/Users/Home/OneDrive/Рабочий стол/Python/Лаб 2/NationalNames.csv')\n",
    "years_observed = df['Year'].nunique()\n",
    "result = f\"Спостереження проводилось {years_observed} років\"\n",
    "print(result)\n"
   ]
  },
  {
   "cell_type": "code",
   "execution_count": 17,
   "id": "6290dc75-0ec5-4655-80be-a4996e3242ed",
   "metadata": {},
   "outputs": [
    {
     "name": "stdout",
     "output_type": "stream",
     "text": [
      "        Name\n",
      "0      Aaron\n",
      "1      Abbie\n",
      "2        Abe\n",
      "3       Abel\n",
      "4    Abigail\n",
      "..       ...\n",
      "922   Winnie\n",
      "923   Winona\n",
      "924    Wyatt\n",
      "925     Zack\n",
      "926      Zoe\n",
      "\n",
      "[927 rows x 1 columns]\n"
     ]
    }
   ],
   "source": [
    "import pandas as pd\n",
    "df = pd.read_csv('C:/Users/Home/OneDrive/Рабочий стол/Python/Лаб 2/NationalNames.csv')\n",
    "total_years = df['Year'].nunique()\n",
    "names_per_year = df.groupby('Name')['Year'].nunique()\n",
    "neutral_names_all_years = names_per_year[names_per_year == total_years].index\n",
    "neutral_names_list = pd.DataFrame(neutral_names_all_years, columns=[\"Name\"])\n",
    "print(neutral_names_list)"
   ]
  },
  {
   "cell_type": "code",
   "execution_count": 18,
   "id": "a7de61ec-60ef-450e-a81e-f04b9dd8b19e",
   "metadata": {},
   "outputs": [
    {
     "name": "stdout",
     "output_type": "stream",
     "text": [
      "Наиболее популярное из непопулярных имён - это Kenton. Им называли 9997 раз.\n"
     ]
    }
   ],
   "source": [
    "import pandas as pd\n",
    "df = pd.read_csv('C:/Users/Home/OneDrive/Рабочий стол/Python/Лаб 2/NationalNames.csv')\n",
    "name_counts = df.groupby('Name')['Count'].sum()\n",
    "threshold = 10000\n",
    "unpopular_names = name_counts[name_counts < threshold]\n",
    "most_popular_unpopular_name = unpopular_names.idxmax()\n",
    "most_popular_unpopular_count = unpopular_names.max()\n",
    "print(f\"Наиболее популярное из непопулярных имён - это {most_popular_unpopular_name}. Им называли {most_popular_unpopular_count} раз.\")"
   ]
  },
  {
   "cell_type": "code",
   "execution_count": 19,
   "id": "817020b1-3eed-4002-a560-90c2c2050f3d",
   "metadata": {},
   "outputs": [
    {
     "name": "stdout",
     "output_type": "stream",
     "text": [
      "          Name  Count\n",
      "Year                 \n",
      "1880      John   9655\n",
      "1881      John   8769\n",
      "1882      John   9557\n",
      "1883      John   8894\n",
      "1884      John   9388\n",
      "...        ...    ...\n",
      "2010  Isabella  22883\n",
      "2011    Sophia  21816\n",
      "2012    Sophia  22267\n",
      "2013    Sophia  21147\n",
      "2014      Emma  20799\n",
      "\n",
      "[135 rows x 2 columns]\n"
     ]
    }
   ],
   "source": [
    "import pandas as pd\n",
    "df = pd.read_csv('C:/Users/Home/OneDrive/Рабочий стол/Python/Лаб 2/NationalNames.csv')\n",
    "most_popular_names = df.loc[df.groupby('Year')['Count'].idxmax()]\n",
    "result_table = most_popular_names[['Year', 'Name', 'Count']].set_index('Year')\n",
    "print(result_table)"
   ]
  }
 ],
 "metadata": {
  "kernelspec": {
   "display_name": "Python 3 (ipykernel)",
   "language": "python",
   "name": "python3"
  },
  "language_info": {
   "codemirror_mode": {
    "name": "ipython",
    "version": 3
   },
   "file_extension": ".py",
   "mimetype": "text/x-python",
   "name": "python",
   "nbconvert_exporter": "python",
   "pygments_lexer": "ipython3",
   "version": "3.12.7"
  }
 },
 "nbformat": 4,
 "nbformat_minor": 5
}
